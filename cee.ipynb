{
 "cells": [
  {
   "cell_type": "code",
   "execution_count": 1,
   "metadata": {
    "collapsed": true
   },
   "outputs": [],
   "source": [
    "import pandas as pd\n",
    "import numpy as np\n",
    "import seaborn as sns"
   ]
  },
  {
   "cell_type": "markdown",
   "source": [
    "### Введение\n",
    "Датасет представляет собой сведения об успеваемости учеников в школе индийского города Assam\n",
    "Необходимо на основании предложенных данных построить модель классификации, которая будет предсказывать значение столбца\n",
    "**Performance**\n"
   ],
   "metadata": {
    "collapsed": false,
    "pycharm": {
     "name": "#%% md\n"
    }
   }
  },
  {
   "cell_type": "code",
   "execution_count": 2,
   "outputs": [
    {
     "data": {
      "text/plain": "       N Performance  Gender    Caste coaching   time Class_ten_education  \\\n0      0   Excellent    male  General       NO    ONE                SEBA   \n1      1   Excellent    male      OBC       WA    TWO                SEBA   \n2      2   Excellent    male      OBC       OA    TWO              OTHERS   \n3      3   Excellent    male  General       WA    ONE                SEBA   \n4      4   Excellent    male  General       OA    TWO                SEBA   \n..   ...         ...     ...      ...      ...    ...                 ...   \n661  661     Average  female       ST       WA    ONE                SEBA   \n662  662     Average    male       ST       WA  THREE                SEBA   \n663  663     Average    male       ST       WA    TWO                SEBA   \n664  664     Average    male       ST       WA  THREE                SEBA   \n665  665     Average  female       ST       NO    ONE                SEBA   \n\n    twelve_education   medium Class_ X_Percentage Class_XII_Percentage  \\\n0              AHSEC  ENGLISH           Excellent            Excellent   \n1              AHSEC   OTHERS           Excellent            Excellent   \n2               CBSE  ENGLISH           Excellent            Excellent   \n3              AHSEC   OTHERS           Excellent            Excellent   \n4               CBSE  ENGLISH           Excellent            Excellent   \n..               ...      ...                 ...                  ...   \n661            AHSEC  ENGLISH                Good                   Vg   \n662            AHSEC  ENGLISH                  Vg                 Good   \n663             CBSE  ENGLISH                Good                   Vg   \n664            AHSEC  ENGLISH                Good                 Good   \n665             CBSE  ENGLISH                  Vg                 Good   \n\n    Father_occupation Mother_occupation  \n0              DOCTOR            OTHERS  \n1      SCHOOL_TEACHER        HOUSE_WIFE  \n2            BUSINESS        HOUSE_WIFE  \n3      SCHOOL_TEACHER    SCHOOL_TEACHER  \n4     COLLEGE_TEACHER        HOUSE_WIFE  \n..                ...               ...  \n661            OTHERS        HOUSE_WIFE  \n662        CULTIVATOR        HOUSE_WIFE  \n663            OTHERS    SCHOOL_TEACHER  \n664    SCHOOL_TEACHER        HOUSE_WIFE  \n665          BUSINESS            OTHERS  \n\n[666 rows x 13 columns]",
      "text/html": "<div>\n<style scoped>\n    .dataframe tbody tr th:only-of-type {\n        vertical-align: middle;\n    }\n\n    .dataframe tbody tr th {\n        vertical-align: top;\n    }\n\n    .dataframe thead th {\n        text-align: right;\n    }\n</style>\n<table border=\"1\" class=\"dataframe\">\n  <thead>\n    <tr style=\"text-align: right;\">\n      <th></th>\n      <th>N</th>\n      <th>Performance</th>\n      <th>Gender</th>\n      <th>Caste</th>\n      <th>coaching</th>\n      <th>time</th>\n      <th>Class_ten_education</th>\n      <th>twelve_education</th>\n      <th>medium</th>\n      <th>Class_ X_Percentage</th>\n      <th>Class_XII_Percentage</th>\n      <th>Father_occupation</th>\n      <th>Mother_occupation</th>\n    </tr>\n  </thead>\n  <tbody>\n    <tr>\n      <th>0</th>\n      <td>0</td>\n      <td>Excellent</td>\n      <td>male</td>\n      <td>General</td>\n      <td>NO</td>\n      <td>ONE</td>\n      <td>SEBA</td>\n      <td>AHSEC</td>\n      <td>ENGLISH</td>\n      <td>Excellent</td>\n      <td>Excellent</td>\n      <td>DOCTOR</td>\n      <td>OTHERS</td>\n    </tr>\n    <tr>\n      <th>1</th>\n      <td>1</td>\n      <td>Excellent</td>\n      <td>male</td>\n      <td>OBC</td>\n      <td>WA</td>\n      <td>TWO</td>\n      <td>SEBA</td>\n      <td>AHSEC</td>\n      <td>OTHERS</td>\n      <td>Excellent</td>\n      <td>Excellent</td>\n      <td>SCHOOL_TEACHER</td>\n      <td>HOUSE_WIFE</td>\n    </tr>\n    <tr>\n      <th>2</th>\n      <td>2</td>\n      <td>Excellent</td>\n      <td>male</td>\n      <td>OBC</td>\n      <td>OA</td>\n      <td>TWO</td>\n      <td>OTHERS</td>\n      <td>CBSE</td>\n      <td>ENGLISH</td>\n      <td>Excellent</td>\n      <td>Excellent</td>\n      <td>BUSINESS</td>\n      <td>HOUSE_WIFE</td>\n    </tr>\n    <tr>\n      <th>3</th>\n      <td>3</td>\n      <td>Excellent</td>\n      <td>male</td>\n      <td>General</td>\n      <td>WA</td>\n      <td>ONE</td>\n      <td>SEBA</td>\n      <td>AHSEC</td>\n      <td>OTHERS</td>\n      <td>Excellent</td>\n      <td>Excellent</td>\n      <td>SCHOOL_TEACHER</td>\n      <td>SCHOOL_TEACHER</td>\n    </tr>\n    <tr>\n      <th>4</th>\n      <td>4</td>\n      <td>Excellent</td>\n      <td>male</td>\n      <td>General</td>\n      <td>OA</td>\n      <td>TWO</td>\n      <td>SEBA</td>\n      <td>CBSE</td>\n      <td>ENGLISH</td>\n      <td>Excellent</td>\n      <td>Excellent</td>\n      <td>COLLEGE_TEACHER</td>\n      <td>HOUSE_WIFE</td>\n    </tr>\n    <tr>\n      <th>...</th>\n      <td>...</td>\n      <td>...</td>\n      <td>...</td>\n      <td>...</td>\n      <td>...</td>\n      <td>...</td>\n      <td>...</td>\n      <td>...</td>\n      <td>...</td>\n      <td>...</td>\n      <td>...</td>\n      <td>...</td>\n      <td>...</td>\n    </tr>\n    <tr>\n      <th>661</th>\n      <td>661</td>\n      <td>Average</td>\n      <td>female</td>\n      <td>ST</td>\n      <td>WA</td>\n      <td>ONE</td>\n      <td>SEBA</td>\n      <td>AHSEC</td>\n      <td>ENGLISH</td>\n      <td>Good</td>\n      <td>Vg</td>\n      <td>OTHERS</td>\n      <td>HOUSE_WIFE</td>\n    </tr>\n    <tr>\n      <th>662</th>\n      <td>662</td>\n      <td>Average</td>\n      <td>male</td>\n      <td>ST</td>\n      <td>WA</td>\n      <td>THREE</td>\n      <td>SEBA</td>\n      <td>AHSEC</td>\n      <td>ENGLISH</td>\n      <td>Vg</td>\n      <td>Good</td>\n      <td>CULTIVATOR</td>\n      <td>HOUSE_WIFE</td>\n    </tr>\n    <tr>\n      <th>663</th>\n      <td>663</td>\n      <td>Average</td>\n      <td>male</td>\n      <td>ST</td>\n      <td>WA</td>\n      <td>TWO</td>\n      <td>SEBA</td>\n      <td>CBSE</td>\n      <td>ENGLISH</td>\n      <td>Good</td>\n      <td>Vg</td>\n      <td>OTHERS</td>\n      <td>SCHOOL_TEACHER</td>\n    </tr>\n    <tr>\n      <th>664</th>\n      <td>664</td>\n      <td>Average</td>\n      <td>male</td>\n      <td>ST</td>\n      <td>WA</td>\n      <td>THREE</td>\n      <td>SEBA</td>\n      <td>AHSEC</td>\n      <td>ENGLISH</td>\n      <td>Good</td>\n      <td>Good</td>\n      <td>SCHOOL_TEACHER</td>\n      <td>HOUSE_WIFE</td>\n    </tr>\n    <tr>\n      <th>665</th>\n      <td>665</td>\n      <td>Average</td>\n      <td>female</td>\n      <td>ST</td>\n      <td>NO</td>\n      <td>ONE</td>\n      <td>SEBA</td>\n      <td>CBSE</td>\n      <td>ENGLISH</td>\n      <td>Vg</td>\n      <td>Good</td>\n      <td>BUSINESS</td>\n      <td>OTHERS</td>\n    </tr>\n  </tbody>\n</table>\n<p>666 rows × 13 columns</p>\n</div>"
     },
     "execution_count": 2,
     "metadata": {},
     "output_type": "execute_result"
    }
   ],
   "source": [
    "cee = pd.read_csv('CEE_DATA.csv', header=0)\n",
    "cee"
   ],
   "metadata": {
    "collapsed": false,
    "pycharm": {
     "name": "#%%\n"
    }
   }
  },
  {
   "cell_type": "code",
   "execution_count": 3,
   "outputs": [
    {
     "name": "stdout",
     "output_type": "stream",
     "text": [
      "<class 'pandas.core.frame.DataFrame'>\n",
      "RangeIndex: 666 entries, 0 to 665\n",
      "Data columns (total 13 columns):\n",
      " #   Column                Non-Null Count  Dtype \n",
      "---  ------                --------------  ----- \n",
      " 0   N                     666 non-null    int64 \n",
      " 1   Performance           666 non-null    object\n",
      " 2   Gender                666 non-null    object\n",
      " 3   Caste                 666 non-null    object\n",
      " 4   coaching              666 non-null    object\n",
      " 5   time                  666 non-null    object\n",
      " 6   Class_ten_education   666 non-null    object\n",
      " 7   twelve_education      666 non-null    object\n",
      " 8   medium                666 non-null    object\n",
      " 9   Class_ X_Percentage   666 non-null    object\n",
      " 10  Class_XII_Percentage  666 non-null    object\n",
      " 11  Father_occupation     666 non-null    object\n",
      " 12  Mother_occupation     666 non-null    object\n",
      "dtypes: int64(1), object(12)\n",
      "memory usage: 67.8+ KB\n"
     ]
    },
    {
     "data": {
      "text/plain": "                N\ncount  666.000000\nmean   332.500000\nstd    192.401923\nmin      0.000000\n25%    166.250000\n50%    332.500000\n75%    498.750000\nmax    665.000000",
      "text/html": "<div>\n<style scoped>\n    .dataframe tbody tr th:only-of-type {\n        vertical-align: middle;\n    }\n\n    .dataframe tbody tr th {\n        vertical-align: top;\n    }\n\n    .dataframe thead th {\n        text-align: right;\n    }\n</style>\n<table border=\"1\" class=\"dataframe\">\n  <thead>\n    <tr style=\"text-align: right;\">\n      <th></th>\n      <th>N</th>\n    </tr>\n  </thead>\n  <tbody>\n    <tr>\n      <th>count</th>\n      <td>666.000000</td>\n    </tr>\n    <tr>\n      <th>mean</th>\n      <td>332.500000</td>\n    </tr>\n    <tr>\n      <th>std</th>\n      <td>192.401923</td>\n    </tr>\n    <tr>\n      <th>min</th>\n      <td>0.000000</td>\n    </tr>\n    <tr>\n      <th>25%</th>\n      <td>166.250000</td>\n    </tr>\n    <tr>\n      <th>50%</th>\n      <td>332.500000</td>\n    </tr>\n    <tr>\n      <th>75%</th>\n      <td>498.750000</td>\n    </tr>\n    <tr>\n      <th>max</th>\n      <td>665.000000</td>\n    </tr>\n  </tbody>\n</table>\n</div>"
     },
     "execution_count": 3,
     "metadata": {},
     "output_type": "execute_result"
    }
   ],
   "source": [
    "cee.head()\n",
    "cee.info()\n",
    "cee.describe()"
   ],
   "metadata": {
    "collapsed": false,
    "pycharm": {
     "name": "#%%\n"
    }
   }
  },
  {
   "cell_type": "code",
   "execution_count": 4,
   "outputs": [],
   "source": [
    "def create_dummies(ds, column):\n",
    "    dummies = pd.get_dummies(ds[column], prefix=column)\n",
    "    ds = pd.concat([ds, dummies], 1)\n",
    "    ds.drop(column, axis=1, inplace=True)\n",
    "    return ds\n",
    "def categorize(ds, column, categories):\n",
    "    cat = pd.Categorical(ds[column], categories=categories)\n",
    "    codes, unique = pd.factorize(cat)\n",
    "    ds.drop(column, axis=1, inplace=True)\n",
    "    ds[column] = codes\n",
    "    return ds"
   ],
   "metadata": {
    "collapsed": false,
    "pycharm": {
     "name": "#%%\n"
    }
   }
  },
  {
   "cell_type": "markdown",
   "source": [
    "### Подготовка модели\n",
    "Все столбцы модели представляют собой строковый тип, поэтому придётся воспользоваться одним из 2 методов:\n",
    "* Создание dummy-колонок\n",
    "* Категоризация\n",
    "\n",
    "Категоризуем следующие столбцы:\n",
    "* Performance\n",
    "* Class_ X_Percentage\n",
    "* Class_XII_Percentage\n",
    "* Coaching. Этот столбец обозначает прохождение учеником спецкурсов. Предполагаем, что студенты, прошедшие доп. курсы\n",
    "имеют больше шансов на положительный результат\n",
    "\n",
    "Столбы Father_occupation и Mother_occupation удалим, т.к. их не удастся категоризовать, а создание dummy-столбцов сильно\n",
    "усложнит модель ввиду большого числа вариантов."
   ],
   "metadata": {
    "collapsed": false,
    "pycharm": {
     "name": "#%% md\n"
    }
   }
  },
  {
   "cell_type": "code",
   "execution_count": 5,
   "outputs": [],
   "source": [
    "cee.drop('N', axis=1, inplace=True)"
   ],
   "metadata": {
    "collapsed": false,
    "pycharm": {
     "name": "#%%\n"
    }
   }
  },
  {
   "cell_type": "code",
   "execution_count": 6,
   "outputs": [],
   "source": [
    "# cee = create_dummies(cee, 'Gender')\n",
    "cee.drop('Gender', axis=1, inplace=True)\n"
   ],
   "metadata": {
    "collapsed": false,
    "pycharm": {
     "name": "#%%\n"
    }
   }
  },
  {
   "cell_type": "code",
   "execution_count": 7,
   "outputs": [],
   "source": [
    "cee = create_dummies(cee, 'Caste')\n",
    "# cee.drop('Caste', axis=1, inplace=True)"
   ],
   "metadata": {
    "collapsed": false,
    "pycharm": {
     "name": "#%%\n"
    }
   }
  },
  {
   "cell_type": "code",
   "execution_count": 8,
   "outputs": [],
   "source": [
    "cee = categorize(cee, 'coaching', ['NO', 'WA', 'OA'])\n",
    "# cee.drop('coaching', axis=1, inplace=True)"
   ],
   "metadata": {
    "collapsed": false,
    "pycharm": {
     "name": "#%%\n"
    }
   }
  },
  {
   "cell_type": "code",
   "execution_count": 9,
   "outputs": [],
   "source": [
    "cee.Mother_occupation.unique()\n",
    "\n",
    "cee = categorize(cee, 'Mother_occupation', cee['Mother_occupation'].unique())\n",
    "# cee.drop('Mother_occupation', axis=1, inplace=True)"
   ],
   "metadata": {
    "collapsed": false,
    "pycharm": {
     "name": "#%%\n"
    }
   }
  },
  {
   "cell_type": "code",
   "execution_count": 10,
   "outputs": [
    {
     "name": "stdout",
     "output_type": "stream",
     "text": [
      "['DOCTOR' 'SCHOOL_TEACHER' 'BUSINESS' 'COLLEGE_TEACHER' 'OTHERS'\n",
      " 'BANK_OFFICIAL' 'ENGINEER' 'CULTIVATOR']\n"
     ]
    }
   ],
   "source": [
    "print(cee['Father_occupation'].unique())\n",
    "cee = categorize(cee, 'Father_occupation', cee['Father_occupation'].unique())\n",
    "# cee.drop('Father_occupation', axis=1, inplace=True)"
   ],
   "metadata": {
    "collapsed": false,
    "pycharm": {
     "name": "#%%\n"
    }
   }
  },
  {
   "cell_type": "code",
   "execution_count": 11,
   "outputs": [],
   "source": [
    "# cee = create_dummies(cee, 'time')\n",
    "# print(cee.time.unique())\n",
    "cee = categorize(cee, 'time', ['ONE', 'TWO','THREE','FOUR','FIVE', 'SIX', 'SEVEN'])\n",
    "# sns.histplot(data=cee, x='time', hue='Performance', stat='count', multiple='dodge')\n",
    "# cee.drop('time', axis=1, inplace=True)"
   ],
   "metadata": {
    "collapsed": false,
    "pycharm": {
     "name": "#%%\n"
    }
   }
  },
  {
   "cell_type": "code",
   "execution_count": 12,
   "outputs": [],
   "source": [
    "cee = create_dummies(cee, 'Class_ten_education')\n",
    "# cee.drop('Class_ten_education', axis=1, inplace=True)\n"
   ],
   "metadata": {
    "collapsed": false,
    "pycharm": {
     "name": "#%%\n"
    }
   }
  },
  {
   "cell_type": "code",
   "execution_count": 13,
   "outputs": [],
   "source": [
    "cee = create_dummies(cee, 'twelve_education')\n",
    "# cee.drop('twelve_education', axis=1, inplace=True)\n"
   ],
   "metadata": {
    "collapsed": false,
    "pycharm": {
     "name": "#%%\n"
    }
   }
  },
  {
   "cell_type": "code",
   "execution_count": 14,
   "outputs": [],
   "source": [
    "# cee = create_dummies(cee, 'medium')\n",
    "cee = categorize(cee, 'medium', ['OTHERS', 'ASSEMESE','ENGLISH'])"
   ],
   "metadata": {
    "collapsed": false,
    "pycharm": {
     "name": "#%%\n"
    }
   }
  },
  {
   "cell_type": "code",
   "execution_count": 15,
   "outputs": [
    {
     "data": {
      "text/plain": "array(['Excellent', 'Vg', 'Good', 'Average'], dtype=object)"
     },
     "execution_count": 15,
     "metadata": {},
     "output_type": "execute_result"
    }
   ],
   "source": [
    "cee['Class_ X_Percentage'].unique()"
   ],
   "metadata": {
    "collapsed": false,
    "pycharm": {
     "name": "#%%\n"
    }
   }
  },
  {
   "cell_type": "code",
   "execution_count": 16,
   "outputs": [],
   "source": [
    "percentages = ['Average', 'Good', 'Vg', 'Excellent']\n",
    "cee = categorize(cee, 'Class_ X_Percentage', percentages)"
   ],
   "metadata": {
    "collapsed": false,
    "pycharm": {
     "name": "#%%\n"
    }
   }
  },
  {
   "cell_type": "code",
   "execution_count": 17,
   "outputs": [
    {
     "data": {
      "text/plain": "array(['Excellent', 'Vg', 'Good', 'Average'], dtype=object)"
     },
     "execution_count": 17,
     "metadata": {},
     "output_type": "execute_result"
    }
   ],
   "source": [
    "cee['Class_XII_Percentage'].unique()"
   ],
   "metadata": {
    "collapsed": false,
    "pycharm": {
     "name": "#%%\n"
    }
   }
  },
  {
   "cell_type": "code",
   "execution_count": 18,
   "outputs": [],
   "source": [
    "cee = categorize(cee, 'Class_XII_Percentage', percentages)"
   ],
   "metadata": {
    "collapsed": false,
    "pycharm": {
     "name": "#%%\n"
    }
   }
  },
  {
   "cell_type": "code",
   "execution_count": 19,
   "outputs": [],
   "source": [
    "cee = categorize(cee, 'Performance', percentages)"
   ],
   "metadata": {
    "collapsed": false,
    "pycharm": {
     "name": "#%%\n"
    }
   }
  },
  {
   "cell_type": "code",
   "execution_count": 20,
   "outputs": [
    {
     "name": "stdout",
     "output_type": "stream",
     "text": [
      "<class 'pandas.core.frame.DataFrame'>\n",
      "RangeIndex: 666 entries, 0 to 665\n",
      "Data columns (total 18 columns):\n",
      " #   Column                      Non-Null Count  Dtype\n",
      "---  ------                      --------------  -----\n",
      " 0   Caste_General               666 non-null    uint8\n",
      " 1   Caste_OBC                   666 non-null    uint8\n",
      " 2   Caste_SC                    666 non-null    uint8\n",
      " 3   Caste_ST                    666 non-null    uint8\n",
      " 4   coaching                    666 non-null    int64\n",
      " 5   Mother_occupation           666 non-null    int64\n",
      " 6   Father_occupation           666 non-null    int64\n",
      " 7   time                        666 non-null    int64\n",
      " 8   Class_ten_education_CBSE    666 non-null    uint8\n",
      " 9   Class_ten_education_OTHERS  666 non-null    uint8\n",
      " 10  Class_ten_education_SEBA    666 non-null    uint8\n",
      " 11  twelve_education_AHSEC      666 non-null    uint8\n",
      " 12  twelve_education_CBSE       666 non-null    uint8\n",
      " 13  twelve_education_OTHERS     666 non-null    uint8\n",
      " 14  medium                      666 non-null    int64\n",
      " 15  Class_ X_Percentage         666 non-null    int64\n",
      " 16  Class_XII_Percentage        666 non-null    int64\n",
      " 17  Performance                 666 non-null    int64\n",
      "dtypes: int64(8), uint8(10)\n",
      "memory usage: 48.3 KB\n"
     ]
    },
    {
     "data": {
      "text/plain": "     Caste_General  Caste_OBC  Caste_SC  Caste_ST  coaching  \\\n0                1          0         0         0         0   \n1                0          1         0         0         1   \n2                0          1         0         0         2   \n3                1          0         0         0         1   \n4                1          0         0         0         2   \n..             ...        ...       ...       ...       ...   \n661              0          0         0         1         1   \n662              0          0         0         1         1   \n663              0          0         0         1         1   \n664              0          0         0         1         1   \n665              0          0         0         1         0   \n\n     Mother_occupation  Father_occupation  time  Class_ten_education_CBSE  \\\n0                    0                  0     0                         0   \n1                    1                  1     1                         0   \n2                    1                  2     1                         0   \n3                    2                  1     0                         0   \n4                    1                  3     1                         0   \n..                 ...                ...   ...                       ...   \n661                  1                  4     0                         0   \n662                  1                  7     2                         0   \n663                  2                  4     1                         0   \n664                  1                  1     2                         0   \n665                  0                  2     0                         0   \n\n     Class_ten_education_OTHERS  Class_ten_education_SEBA  \\\n0                             0                         1   \n1                             0                         1   \n2                             1                         0   \n3                             0                         1   \n4                             0                         1   \n..                          ...                       ...   \n661                           0                         1   \n662                           0                         1   \n663                           0                         1   \n664                           0                         1   \n665                           0                         1   \n\n     twelve_education_AHSEC  twelve_education_CBSE  twelve_education_OTHERS  \\\n0                         1                      0                        0   \n1                         1                      0                        0   \n2                         0                      1                        0   \n3                         1                      0                        0   \n4                         0                      1                        0   \n..                      ...                    ...                      ...   \n661                       1                      0                        0   \n662                       1                      0                        0   \n663                       0                      1                        0   \n664                       1                      0                        0   \n665                       0                      1                        0   \n\n     medium  Class_ X_Percentage  Class_XII_Percentage  Performance  \n0         0                    0                     0            0  \n1         1                    0                     0            0  \n2         0                    0                     0            0  \n3         1                    0                     0            0  \n4         0                    0                     0            0  \n..      ...                  ...                   ...          ...  \n661       0                    2                     1            3  \n662       0                    1                     2            3  \n663       0                    2                     1            3  \n664       0                    2                     2            3  \n665       0                    1                     2            3  \n\n[666 rows x 18 columns]",
      "text/html": "<div>\n<style scoped>\n    .dataframe tbody tr th:only-of-type {\n        vertical-align: middle;\n    }\n\n    .dataframe tbody tr th {\n        vertical-align: top;\n    }\n\n    .dataframe thead th {\n        text-align: right;\n    }\n</style>\n<table border=\"1\" class=\"dataframe\">\n  <thead>\n    <tr style=\"text-align: right;\">\n      <th></th>\n      <th>Caste_General</th>\n      <th>Caste_OBC</th>\n      <th>Caste_SC</th>\n      <th>Caste_ST</th>\n      <th>coaching</th>\n      <th>Mother_occupation</th>\n      <th>Father_occupation</th>\n      <th>time</th>\n      <th>Class_ten_education_CBSE</th>\n      <th>Class_ten_education_OTHERS</th>\n      <th>Class_ten_education_SEBA</th>\n      <th>twelve_education_AHSEC</th>\n      <th>twelve_education_CBSE</th>\n      <th>twelve_education_OTHERS</th>\n      <th>medium</th>\n      <th>Class_ X_Percentage</th>\n      <th>Class_XII_Percentage</th>\n      <th>Performance</th>\n    </tr>\n  </thead>\n  <tbody>\n    <tr>\n      <th>0</th>\n      <td>1</td>\n      <td>0</td>\n      <td>0</td>\n      <td>0</td>\n      <td>0</td>\n      <td>0</td>\n      <td>0</td>\n      <td>0</td>\n      <td>0</td>\n      <td>0</td>\n      <td>1</td>\n      <td>1</td>\n      <td>0</td>\n      <td>0</td>\n      <td>0</td>\n      <td>0</td>\n      <td>0</td>\n      <td>0</td>\n    </tr>\n    <tr>\n      <th>1</th>\n      <td>0</td>\n      <td>1</td>\n      <td>0</td>\n      <td>0</td>\n      <td>1</td>\n      <td>1</td>\n      <td>1</td>\n      <td>1</td>\n      <td>0</td>\n      <td>0</td>\n      <td>1</td>\n      <td>1</td>\n      <td>0</td>\n      <td>0</td>\n      <td>1</td>\n      <td>0</td>\n      <td>0</td>\n      <td>0</td>\n    </tr>\n    <tr>\n      <th>2</th>\n      <td>0</td>\n      <td>1</td>\n      <td>0</td>\n      <td>0</td>\n      <td>2</td>\n      <td>1</td>\n      <td>2</td>\n      <td>1</td>\n      <td>0</td>\n      <td>1</td>\n      <td>0</td>\n      <td>0</td>\n      <td>1</td>\n      <td>0</td>\n      <td>0</td>\n      <td>0</td>\n      <td>0</td>\n      <td>0</td>\n    </tr>\n    <tr>\n      <th>3</th>\n      <td>1</td>\n      <td>0</td>\n      <td>0</td>\n      <td>0</td>\n      <td>1</td>\n      <td>2</td>\n      <td>1</td>\n      <td>0</td>\n      <td>0</td>\n      <td>0</td>\n      <td>1</td>\n      <td>1</td>\n      <td>0</td>\n      <td>0</td>\n      <td>1</td>\n      <td>0</td>\n      <td>0</td>\n      <td>0</td>\n    </tr>\n    <tr>\n      <th>4</th>\n      <td>1</td>\n      <td>0</td>\n      <td>0</td>\n      <td>0</td>\n      <td>2</td>\n      <td>1</td>\n      <td>3</td>\n      <td>1</td>\n      <td>0</td>\n      <td>0</td>\n      <td>1</td>\n      <td>0</td>\n      <td>1</td>\n      <td>0</td>\n      <td>0</td>\n      <td>0</td>\n      <td>0</td>\n      <td>0</td>\n    </tr>\n    <tr>\n      <th>...</th>\n      <td>...</td>\n      <td>...</td>\n      <td>...</td>\n      <td>...</td>\n      <td>...</td>\n      <td>...</td>\n      <td>...</td>\n      <td>...</td>\n      <td>...</td>\n      <td>...</td>\n      <td>...</td>\n      <td>...</td>\n      <td>...</td>\n      <td>...</td>\n      <td>...</td>\n      <td>...</td>\n      <td>...</td>\n      <td>...</td>\n    </tr>\n    <tr>\n      <th>661</th>\n      <td>0</td>\n      <td>0</td>\n      <td>0</td>\n      <td>1</td>\n      <td>1</td>\n      <td>1</td>\n      <td>4</td>\n      <td>0</td>\n      <td>0</td>\n      <td>0</td>\n      <td>1</td>\n      <td>1</td>\n      <td>0</td>\n      <td>0</td>\n      <td>0</td>\n      <td>2</td>\n      <td>1</td>\n      <td>3</td>\n    </tr>\n    <tr>\n      <th>662</th>\n      <td>0</td>\n      <td>0</td>\n      <td>0</td>\n      <td>1</td>\n      <td>1</td>\n      <td>1</td>\n      <td>7</td>\n      <td>2</td>\n      <td>0</td>\n      <td>0</td>\n      <td>1</td>\n      <td>1</td>\n      <td>0</td>\n      <td>0</td>\n      <td>0</td>\n      <td>1</td>\n      <td>2</td>\n      <td>3</td>\n    </tr>\n    <tr>\n      <th>663</th>\n      <td>0</td>\n      <td>0</td>\n      <td>0</td>\n      <td>1</td>\n      <td>1</td>\n      <td>2</td>\n      <td>4</td>\n      <td>1</td>\n      <td>0</td>\n      <td>0</td>\n      <td>1</td>\n      <td>0</td>\n      <td>1</td>\n      <td>0</td>\n      <td>0</td>\n      <td>2</td>\n      <td>1</td>\n      <td>3</td>\n    </tr>\n    <tr>\n      <th>664</th>\n      <td>0</td>\n      <td>0</td>\n      <td>0</td>\n      <td>1</td>\n      <td>1</td>\n      <td>1</td>\n      <td>1</td>\n      <td>2</td>\n      <td>0</td>\n      <td>0</td>\n      <td>1</td>\n      <td>1</td>\n      <td>0</td>\n      <td>0</td>\n      <td>0</td>\n      <td>2</td>\n      <td>2</td>\n      <td>3</td>\n    </tr>\n    <tr>\n      <th>665</th>\n      <td>0</td>\n      <td>0</td>\n      <td>0</td>\n      <td>1</td>\n      <td>0</td>\n      <td>0</td>\n      <td>2</td>\n      <td>0</td>\n      <td>0</td>\n      <td>0</td>\n      <td>1</td>\n      <td>0</td>\n      <td>1</td>\n      <td>0</td>\n      <td>0</td>\n      <td>1</td>\n      <td>2</td>\n      <td>3</td>\n    </tr>\n  </tbody>\n</table>\n<p>666 rows × 18 columns</p>\n</div>"
     },
     "execution_count": 20,
     "metadata": {},
     "output_type": "execute_result"
    }
   ],
   "source": [
    "cee.info()\n",
    "cee.describe()\n",
    "cee\n"
   ],
   "metadata": {
    "collapsed": false,
    "pycharm": {
     "name": "#%%\n"
    }
   }
  },
  {
   "cell_type": "code",
   "execution_count": 21,
   "outputs": [],
   "source": [
    "# sns.countplot(data=cee, x='medium_ASSAMESE', hue='Performance')"
   ],
   "metadata": {
    "collapsed": false,
    "pycharm": {
     "name": "#%%\n"
    }
   }
  },
  {
   "cell_type": "code",
   "execution_count": 22,
   "outputs": [],
   "source": [
    "# sns.countplot(data=cee, x='medium_ENGLISH', hue='Performance')"
   ],
   "metadata": {
    "collapsed": false,
    "pycharm": {
     "name": "#%%\n"
    }
   }
  },
  {
   "cell_type": "code",
   "execution_count": 23,
   "outputs": [],
   "source": [
    "# sns.countplot(data=cee, x='medium_OTHERS', hue='Performance')"
   ],
   "metadata": {
    "collapsed": false,
    "pycharm": {
     "name": "#%%\n"
    }
   }
  },
  {
   "cell_type": "code",
   "execution_count": 24,
   "outputs": [
    {
     "data": {
      "text/plain": "<AxesSubplot:xlabel='twelve_education_AHSEC', ylabel='count'>"
     },
     "execution_count": 24,
     "metadata": {},
     "output_type": "execute_result"
    },
    {
     "data": {
      "text/plain": "<Figure size 432x288 with 1 Axes>",
      "image/png": "[encoded data removed]"
     },
     "metadata": {
      "needs_background": "light"
     },
     "output_type": "display_data"
    }
   ],
   "source": [
    "sns.countplot(data=cee, x='twelve_education_AHSEC', hue='Performance')"
   ],
   "metadata": {
    "collapsed": false,
    "pycharm": {
     "name": "#%%\n"
    }
   }
  },
  {
   "cell_type": "code",
   "execution_count": 25,
   "outputs": [
    {
     "data": {
      "text/plain": "<AxesSubplot:xlabel='twelve_education_CBSE', ylabel='count'>"
     },
     "execution_count": 25,
     "metadata": {},
     "output_type": "execute_result"
    },
    {
     "data": {
      "text/plain": "<Figure size 432x288 with 1 Axes>",
      "image/png": "[encoded data removed]"
     },
     "metadata": {
      "needs_background": "light"
     },
     "output_type": "display_data"
    }
   ],
   "source": [
    "sns.countplot(data=cee, x='twelve_education_CBSE', hue='Performance')"
   ],
   "metadata": {
    "collapsed": false,
    "pycharm": {
     "name": "#%%\n"
    }
   }
  },
  {
   "cell_type": "code",
   "execution_count": 26,
   "outputs": [
    {
     "data": {
      "text/plain": "<AxesSubplot:xlabel='twelve_education_OTHERS', ylabel='count'>"
     },
     "execution_count": 26,
     "metadata": {},
     "output_type": "execute_result"
    },
    {
     "data": {
      "text/plain": "<Figure size 432x288 with 1 Axes>",
      "image/png": "[encoded data removed]"
     },
     "metadata": {
      "needs_background": "light"
     },
     "output_type": "display_data"
    }
   ],
   "source": [
    "sns.countplot(data=cee, x='twelve_education_OTHERS', hue='Performance')\n",
    "# cee.drop('twelve_education_OTHERS', axis=1, inplace=True)"
   ],
   "metadata": {
    "collapsed": false,
    "pycharm": {
     "name": "#%%\n"
    }
   }
  },
  {
   "cell_type": "code",
   "execution_count": 27,
   "outputs": [
    {
     "data": {
      "text/plain": "<AxesSubplot:xlabel='Class_ X_Percentage', ylabel='count'>"
     },
     "execution_count": 27,
     "metadata": {},
     "output_type": "execute_result"
    },
    {
     "data": {
      "text/plain": "<Figure size 432x288 with 1 Axes>",
      "image/png": "[encoded data removed]"
     },
     "metadata": {
      "needs_background": "light"
     },
     "output_type": "display_data"
    }
   ],
   "source": [
    "sns.countplot(data=cee, x='Class_ X_Percentage', hue='Performance')"
   ],
   "metadata": {
    "collapsed": false,
    "pycharm": {
     "name": "#%%\n"
    }
   }
  },
  {
   "cell_type": "code",
   "execution_count": 28,
   "outputs": [
    {
     "data": {
      "text/plain": "<AxesSubplot:xlabel='Class_XII_Percentage', ylabel='count'>"
     },
     "execution_count": 28,
     "metadata": {},
     "output_type": "execute_result"
    },
    {
     "data": {
      "text/plain": "<Figure size 432x288 with 1 Axes>",
      "image/png": "[encoded data removed]"
     },
     "metadata": {
      "needs_background": "light"
     },
     "output_type": "display_data"
    }
   ],
   "source": [
    "sns.countplot(data=cee, x='Class_XII_Percentage', hue='Performance')"
   ],
   "metadata": {
    "collapsed": false,
    "pycharm": {
     "name": "#%%\n"
    }
   }
  },
  {
   "cell_type": "code",
   "execution_count": 29,
   "outputs": [
    {
     "data": {
      "text/plain": "<AxesSubplot:>"
     },
     "execution_count": 29,
     "metadata": {},
     "output_type": "execute_result"
    },
    {
     "data": {
      "text/plain": "<Figure size 432x288 with 2 Axes>",
      "image/png": "[encoded data removed]"
     },
     "metadata": {
      "needs_background": "light"
     },
     "output_type": "display_data"
    }
   ],
   "source": [
    "corr = cee.corr()\n",
    "sns.heatmap(corr, xticklabels=corr.columns, yticklabels=corr.columns[-1])"
   ],
   "metadata": {
    "collapsed": false,
    "pycharm": {
     "name": "#%%\n"
    }
   }
  },
  {
   "cell_type": "code",
   "execution_count": 30,
   "outputs": [],
   "source": [
    "from sklearn.tree import DecisionTreeClassifier\n",
    "from sklearn.model_selection import train_test_split"
   ],
   "metadata": {
    "collapsed": false,
    "pycharm": {
     "name": "#%%\n"
    }
   }
  },
  {
   "cell_type": "code",
   "execution_count": 31,
   "outputs": [],
   "source": [
    "y = cee.Performance\n",
    "cee.drop('Performance', axis=1, inplace=True)\n",
    "x = cee\n",
    "x_train, x_test, y_train, y_test = train_test_split(x, y, test_size=0.1)"
   ],
   "metadata": {
    "collapsed": false,
    "pycharm": {
     "name": "#%%\n"
    }
   }
  },
  {
   "cell_type": "code",
   "execution_count": 32,
   "outputs": [
    {
     "data": {
      "text/plain": "DecisionTreeClassifier(max_depth=3)"
     },
     "execution_count": 32,
     "metadata": {},
     "output_type": "execute_result"
    }
   ],
   "source": [
    "classifier = DecisionTreeClassifier(max_depth=3)\n",
    "classifier.fit(x_train, y_train)"
   ],
   "metadata": {
    "collapsed": false,
    "pycharm": {
     "name": "#%%\n"
    }
   }
  },
  {
   "cell_type": "code",
   "execution_count": 33,
   "outputs": [
    {
     "data": {
      "text/plain": "0.5671641791044776"
     },
     "execution_count": 33,
     "metadata": {},
     "output_type": "execute_result"
    }
   ],
   "source": [
    "classifier.score(x_test, y_test)"
   ],
   "metadata": {
    "collapsed": false,
    "pycharm": {
     "name": "#%%\n"
    }
   }
  },
  {
   "cell_type": "code",
   "execution_count": 34,
   "outputs": [],
   "source": [
    "from sklearn.model_selection import cross_val_score"
   ],
   "metadata": {
    "collapsed": false,
    "pycharm": {
     "name": "#%%\n"
    }
   }
  },
  {
   "cell_type": "code",
   "execution_count": 35,
   "outputs": [
    {
     "data": {
      "text/plain": "array([0.3358209 , 0.39849624, 0.54135338, 0.47368421, 0.63157895])"
     },
     "execution_count": 35,
     "metadata": {},
     "output_type": "execute_result"
    }
   ],
   "source": [
    "cross_val_score(classifier, x, y)"
   ],
   "metadata": {
    "collapsed": false,
    "pycharm": {
     "name": "#%%\n"
    }
   }
  },
  {
   "cell_type": "code",
   "execution_count": 36,
   "outputs": [],
   "source": [
    "from sklearn.model_selection import GridSearchCV"
   ],
   "metadata": {
    "collapsed": false,
    "pycharm": {
     "name": "#%%\n"
    }
   }
  },
  {
   "cell_type": "code",
   "execution_count": 37,
   "outputs": [],
   "source": [
    "params = {'dt__max_depth': range(1,10),\n",
    "          'dt__criterion': ['entropy', 'gini'],\n",
    "          'dt__min_samples_leaf': [i*2 for i in range(1, 8)],\n",
    "          'dt__min_samples_split': [i*2 for i in range(1, 8)],\n",
    "          }"
   ],
   "metadata": {
    "collapsed": false,
    "pycharm": {
     "name": "#%%\n"
    }
   }
  },
  {
   "cell_type": "code",
   "execution_count": 38,
   "outputs": [
    {
     "data": {
      "text/plain": "{'dt__max_depth': range(1, 10),\n 'dt__criterion': ['entropy', 'gini'],\n 'dt__min_samples_leaf': [2, 4, 6, 8, 10, 12, 14],\n 'dt__min_samples_split': [2, 4, 6, 8, 10, 12, 14]}"
     },
     "execution_count": 38,
     "metadata": {},
     "output_type": "execute_result"
    }
   ],
   "source": [
    "params"
   ],
   "metadata": {
    "collapsed": false,
    "pycharm": {
     "name": "#%%\n"
    }
   }
  },
  {
   "cell_type": "code",
   "execution_count": 39,
   "outputs": [],
   "source": [
    "from sklearn.pipeline import Pipeline"
   ],
   "metadata": {
    "collapsed": false,
    "pycharm": {
     "name": "#%%\n"
    }
   }
  },
  {
   "cell_type": "code",
   "execution_count": 40,
   "outputs": [],
   "source": [
    "from sklearn.preprocessing import MinMaxScaler, PolynomialFeatures"
   ],
   "metadata": {
    "collapsed": false,
    "pycharm": {
     "name": "#%%\n"
    }
   }
  },
  {
   "cell_type": "code",
   "execution_count": 41,
   "outputs": [],
   "source": [
    "pipe = Pipeline([('sc',MinMaxScaler()), ('dt', classifier)])"
   ],
   "metadata": {
    "collapsed": false,
    "pycharm": {
     "name": "#%%\n"
    }
   }
  },
  {
   "cell_type": "code",
   "execution_count": 42,
   "outputs": [],
   "source": [
    "gs = GridSearchCV(pipe, params, cv=6)"
   ],
   "metadata": {
    "collapsed": false,
    "pycharm": {
     "name": "#%%\n"
    }
   }
  },
  {
   "cell_type": "code",
   "execution_count": 43,
   "outputs": [
    {
     "data": {
      "text/plain": "GridSearchCV(cv=6,\n             estimator=Pipeline(steps=[('sc', MinMaxScaler()),\n                                       ('dt',\n                                        DecisionTreeClassifier(max_depth=3))]),\n             param_grid={'dt__criterion': ['entropy', 'gini'],\n                         'dt__max_depth': range(1, 10),\n                         'dt__min_samples_leaf': [2, 4, 6, 8, 10, 12, 14],\n                         'dt__min_samples_split': [2, 4, 6, 8, 10, 12, 14]})"
     },
     "execution_count": 43,
     "metadata": {},
     "output_type": "execute_result"
    }
   ],
   "source": [
    "gs.fit(x, y)"
   ],
   "metadata": {
    "collapsed": false,
    "pycharm": {
     "name": "#%%\n"
    }
   }
  },
  {
   "cell_type": "code",
   "execution_count": 44,
   "outputs": [
    {
     "data": {
      "text/plain": "{'dt__criterion': 'entropy',\n 'dt__max_depth': 2,\n 'dt__min_samples_leaf': 2,\n 'dt__min_samples_split': 2}"
     },
     "execution_count": 44,
     "metadata": {},
     "output_type": "execute_result"
    }
   ],
   "source": [
    "gs.best_params_"
   ],
   "metadata": {
    "collapsed": false,
    "pycharm": {
     "name": "#%%\n"
    }
   }
  },
  {
   "cell_type": "code",
   "execution_count": 45,
   "outputs": [
    {
     "data": {
      "text/plain": "0.496996996996997"
     },
     "execution_count": 45,
     "metadata": {},
     "output_type": "execute_result"
    }
   ],
   "source": [
    "gs.score(x, y)\n"
   ],
   "metadata": {
    "collapsed": false,
    "pycharm": {
     "name": "#%%\n"
    }
   }
  },
  {
   "cell_type": "markdown",
   "source": [
    "### Вывод\n",
    "Лучший результат модели около 0.60, что является достаточно посредственным результатом.\n",
    "На результате сказалось малое количесво данных и их абстрактность."
   ],
   "metadata": {
    "collapsed": false,
    "pycharm": {
     "name": "#%% md\n"
    }
   }
  }
 ],
 "metadata": {
  "kernelspec": {
   "display_name": "Python 3",
   "language": "python",
   "name": "python3"
  },
  "language_info": {
   "codemirror_mode": {
    "name": "ipython",
    "version": 2
   },
   "file_extension": ".py",
   "mimetype": "text/x-python",
   "name": "python",
   "nbconvert_exporter": "python",
   "pygments_lexer": "ipython2",
   "version": "2.7.6"
  }
 },
 "nbformat": 4,
 "nbformat_minor": 0
}