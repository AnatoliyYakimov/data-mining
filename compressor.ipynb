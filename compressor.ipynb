{
 "cells": [
  {
   "cell_type": "markdown",
   "source": [
    "### Введение\n",
    "Необходмо составить модель, предсказывающую коэффициент разрушения компрессора: \n",
    "* Compressor decay state coefficient (CD)\n",
    "\n",
    "В модели имеется 16 известных параметров:\n",
    "1. Lever position (lp) [ ]\n",
    "2. Ship speed (v) [knots]\n",
    "3. Gas Turbine shaft torque (GTT) [kN m]\n",
    "4. Gas Turbine rate of revolutions (GTn) [rpm]\n",
    "5. Gas Generator rate of revolutions (GGn) [rpm]\n",
    "6. Starboard Propeller Torque (Ts) [kN]\n",
    "7. Port Propeller Torque (Tp) [kN]\n",
    "8. HP Turbine exit temperature (T48) [C]\n",
    "9. GT Compressor inlet air temperature (T1) [C]\n",
    "10. GT Compressor outlet air temperature (T2) [C]\n",
    "11. HP Turbine exit pressure (P48) [bar]\n",
    "12. GT Compressor inlet air pressure (P1) [bar]\n",
    "13. GT Compressor outlet air pressure (P2) [bar]\n",
    "14. Gas Turbine exhaust gas pressure (Pexh) [bar]\n",
    "15. Turbine Injecton Control (TIC) [%]\n",
    "16. Fuel flow (mf) [kg/s]"
   ],
   "metadata": {
    "collapsed": false,
    "pycharm": {
     "name": "#%% md\n"
    }
   }
  },
  {
   "cell_type": "code",
   "execution_count": 99,
   "metadata": {
    "collapsed": true
   },
   "outputs": [],
   "source": [
    "import pandas as pd\n",
    "import numpy as np\n",
    "import seaborn as sns\n",
    "import re"
   ]
  },
  {
   "cell_type": "code",
   "execution_count": 100,
   "outputs": [
    {
     "name": "stdout",
     "output_type": "stream",
     "text": [
      "['lp', 'v', 'GTT', 'GTn', 'GGn', 'Ts', 'Tp', 'T48', 'T1', 'T2', 'P48', 'P1', 'P2', 'Pexh', 'TIC', 'mf', 'CD', 'TD']\n"
     ]
    },
    {
     "data": {
      "text/plain": "          lp     v        GTT       GTn       GGn       Ts       Tp       T48  \\\n0      1.138   3.0    289.964  1349.489  6677.380    7.584    7.584   464.006   \n1      2.088   6.0   6960.180  1376.166  6828.469   28.204   28.204   635.401   \n2      3.144   9.0   8379.229  1386.757  7111.811   60.358   60.358   606.002   \n3      4.161  12.0  14724.395  1547.465  7792.630  113.774  113.774   661.471   \n4      5.140  15.0  21636.432  1924.313  8494.777  175.306  175.306   731.494   \n...      ...   ...        ...       ...       ...      ...      ...       ...   \n11929  5.140  15.0  21624.934  1924.342  8470.013  175.239  175.239   681.658   \n11930  6.175  18.0  29763.213  2306.745  8800.352  245.954  245.954   747.405   \n11931  7.148  21.0  39003.867  2678.052  9120.889  332.389  332.389   796.457   \n11932  8.206  24.0  50992.579  3087.434  9300.274  438.024  438.024   892.945   \n11933  9.300  27.0  72775.130  3560.400  9742.950  644.880  644.880  1038.411   \n\n          T1       T2    P48     P1      P2   Pexh     TIC     mf    CD     TD  \n0      288.0  550.563  1.096  0.998   5.947  1.019   7.137  0.082  0.95  0.975  \n1      288.0  581.658  1.331  0.998   7.282  1.019  10.655  0.287  0.95  0.975  \n2      288.0  587.587  1.389  0.998   7.574  1.020  13.086  0.259  0.95  0.975  \n3      288.0  613.851  1.658  0.998   9.007  1.022  18.109  0.358  0.95  0.975  \n4      288.0  645.642  2.078  0.998  11.197  1.026  26.373  0.522  0.95  0.975  \n...      ...      ...    ...    ...     ...    ...     ...    ...   ...    ...  \n11929  288.0  628.950  2.087  0.998  10.990  1.027  23.803  0.471  1.00  1.000  \n11930  288.0  658.853  2.512  0.998  13.109  1.031  32.671  0.647  1.00  1.000  \n11931  288.0  680.393  2.982  0.998  15.420  1.036  42.104  0.834  1.00  1.000  \n11932  288.0  722.029  3.594  0.998  18.293  1.043  58.064  1.149  1.00  1.000  \n11933  288.0  767.595  4.531  0.998  22.464  1.052  86.067  1.704  1.00  1.000  \n\n[11934 rows x 18 columns]",
      "text/html": "<div>\n<style scoped>\n    .dataframe tbody tr th:only-of-type {\n        vertical-align: middle;\n    }\n\n    .dataframe tbody tr th {\n        vertical-align: top;\n    }\n\n    .dataframe thead th {\n        text-align: right;\n    }\n</style>\n<table border=\"1\" class=\"dataframe\">\n  <thead>\n    <tr style=\"text-align: right;\">\n      <th></th>\n      <th>lp</th>\n      <th>v</th>\n      <th>GTT</th>\n      <th>GTn</th>\n      <th>GGn</th>\n      <th>Ts</th>\n      <th>Tp</th>\n      <th>T48</th>\n      <th>T1</th>\n      <th>T2</th>\n      <th>P48</th>\n      <th>P1</th>\n      <th>P2</th>\n      <th>Pexh</th>\n      <th>TIC</th>\n      <th>mf</th>\n      <th>CD</th>\n      <th>TD</th>\n    </tr>\n  </thead>\n  <tbody>\n    <tr>\n      <th>0</th>\n      <td>1.138</td>\n      <td>3.0</td>\n      <td>289.964</td>\n      <td>1349.489</td>\n      <td>6677.380</td>\n      <td>7.584</td>\n      <td>7.584</td>\n      <td>464.006</td>\n      <td>288.0</td>\n      <td>550.563</td>\n      <td>1.096</td>\n      <td>0.998</td>\n      <td>5.947</td>\n      <td>1.019</td>\n      <td>7.137</td>\n      <td>0.082</td>\n      <td>0.95</td>\n      <td>0.975</td>\n    </tr>\n    <tr>\n      <th>1</th>\n      <td>2.088</td>\n      <td>6.0</td>\n      <td>6960.180</td>\n      <td>1376.166</td>\n      <td>6828.469</td>\n      <td>28.204</td>\n      <td>28.204</td>\n      <td>635.401</td>\n      <td>288.0</td>\n      <td>581.658</td>\n      <td>1.331</td>\n      <td>0.998</td>\n      <td>7.282</td>\n      <td>1.019</td>\n      <td>10.655</td>\n      <td>0.287</td>\n      <td>0.95</td>\n      <td>0.975</td>\n    </tr>\n    <tr>\n      <th>2</th>\n      <td>3.144</td>\n      <td>9.0</td>\n      <td>8379.229</td>\n      <td>1386.757</td>\n      <td>7111.811</td>\n      <td>60.358</td>\n      <td>60.358</td>\n      <td>606.002</td>\n      <td>288.0</td>\n      <td>587.587</td>\n      <td>1.389</td>\n      <td>0.998</td>\n      <td>7.574</td>\n      <td>1.020</td>\n      <td>13.086</td>\n      <td>0.259</td>\n      <td>0.95</td>\n      <td>0.975</td>\n    </tr>\n    <tr>\n      <th>3</th>\n      <td>4.161</td>\n      <td>12.0</td>\n      <td>14724.395</td>\n      <td>1547.465</td>\n      <td>7792.630</td>\n      <td>113.774</td>\n      <td>113.774</td>\n      <td>661.471</td>\n      <td>288.0</td>\n      <td>613.851</td>\n      <td>1.658</td>\n      <td>0.998</td>\n      <td>9.007</td>\n      <td>1.022</td>\n      <td>18.109</td>\n      <td>0.358</td>\n      <td>0.95</td>\n      <td>0.975</td>\n    </tr>\n    <tr>\n      <th>4</th>\n      <td>5.140</td>\n      <td>15.0</td>\n      <td>21636.432</td>\n      <td>1924.313</td>\n      <td>8494.777</td>\n      <td>175.306</td>\n      <td>175.306</td>\n      <td>731.494</td>\n      <td>288.0</td>\n      <td>645.642</td>\n      <td>2.078</td>\n      <td>0.998</td>\n      <td>11.197</td>\n      <td>1.026</td>\n      <td>26.373</td>\n      <td>0.522</td>\n      <td>0.95</td>\n      <td>0.975</td>\n    </tr>\n    <tr>\n      <th>...</th>\n      <td>...</td>\n      <td>...</td>\n      <td>...</td>\n      <td>...</td>\n      <td>...</td>\n      <td>...</td>\n      <td>...</td>\n      <td>...</td>\n      <td>...</td>\n      <td>...</td>\n      <td>...</td>\n      <td>...</td>\n      <td>...</td>\n      <td>...</td>\n      <td>...</td>\n      <td>...</td>\n      <td>...</td>\n      <td>...</td>\n    </tr>\n    <tr>\n      <th>11929</th>\n      <td>5.140</td>\n      <td>15.0</td>\n      <td>21624.934</td>\n      <td>1924.342</td>\n      <td>8470.013</td>\n      <td>175.239</td>\n      <td>175.239</td>\n      <td>681.658</td>\n      <td>288.0</td>\n      <td>628.950</td>\n      <td>2.087</td>\n      <td>0.998</td>\n      <td>10.990</td>\n      <td>1.027</td>\n      <td>23.803</td>\n      <td>0.471</td>\n      <td>1.00</td>\n      <td>1.000</td>\n    </tr>\n    <tr>\n      <th>11930</th>\n      <td>6.175</td>\n      <td>18.0</td>\n      <td>29763.213</td>\n      <td>2306.745</td>\n      <td>8800.352</td>\n      <td>245.954</td>\n      <td>245.954</td>\n      <td>747.405</td>\n      <td>288.0</td>\n      <td>658.853</td>\n      <td>2.512</td>\n      <td>0.998</td>\n      <td>13.109</td>\n      <td>1.031</td>\n      <td>32.671</td>\n      <td>0.647</td>\n      <td>1.00</td>\n      <td>1.000</td>\n    </tr>\n    <tr>\n      <th>11931</th>\n      <td>7.148</td>\n      <td>21.0</td>\n      <td>39003.867</td>\n      <td>2678.052</td>\n      <td>9120.889</td>\n      <td>332.389</td>\n      <td>332.389</td>\n      <td>796.457</td>\n      <td>288.0</td>\n      <td>680.393</td>\n      <td>2.982</td>\n      <td>0.998</td>\n      <td>15.420</td>\n      <td>1.036</td>\n      <td>42.104</td>\n      <td>0.834</td>\n      <td>1.00</td>\n      <td>1.000</td>\n    </tr>\n    <tr>\n      <th>11932</th>\n      <td>8.206</td>\n      <td>24.0</td>\n      <td>50992.579</td>\n      <td>3087.434</td>\n      <td>9300.274</td>\n      <td>438.024</td>\n      <td>438.024</td>\n      <td>892.945</td>\n      <td>288.0</td>\n      <td>722.029</td>\n      <td>3.594</td>\n      <td>0.998</td>\n      <td>18.293</td>\n      <td>1.043</td>\n      <td>58.064</td>\n      <td>1.149</td>\n      <td>1.00</td>\n      <td>1.000</td>\n    </tr>\n    <tr>\n      <th>11933</th>\n      <td>9.300</td>\n      <td>27.0</td>\n      <td>72775.130</td>\n      <td>3560.400</td>\n      <td>9742.950</td>\n      <td>644.880</td>\n      <td>644.880</td>\n      <td>1038.411</td>\n      <td>288.0</td>\n      <td>767.595</td>\n      <td>4.531</td>\n      <td>0.998</td>\n      <td>22.464</td>\n      <td>1.052</td>\n      <td>86.067</td>\n      <td>1.704</td>\n      <td>1.00</td>\n      <td>1.000</td>\n    </tr>\n  </tbody>\n</table>\n<p>11934 rows × 18 columns</p>\n</div>"
     },
     "execution_count": 100,
     "metadata": {},
     "output_type": "execute_result"
    }
   ],
   "source": [
    "with open('../models/Features.txt') as f:\n",
    "    headers = f.readlines()\n",
    "headers = list(map(lambda l: re.sub(r\"\"\"(.*\\(|\\).*\\s?)\"\"\", '', l), headers))\n",
    "print(headers)\n",
    "ds = pd.read_csv('../models/data.txt', '\\s+', engine='python', header=None, names=headers)\n",
    "ds"
   ],
   "metadata": {
    "collapsed": false,
    "pycharm": {
     "name": "#%%\n"
    }
   }
  },
  {
   "cell_type": "code",
   "execution_count": 101,
   "outputs": [
    {
     "name": "stdout",
     "output_type": "stream",
     "text": [
      "<class 'pandas.core.frame.DataFrame'>\n",
      "RangeIndex: 11934 entries, 0 to 11933\n",
      "Data columns (total 18 columns):\n",
      " #   Column  Non-Null Count  Dtype  \n",
      "---  ------  --------------  -----  \n",
      " 0   lp      11934 non-null  float64\n",
      " 1   v       11934 non-null  float64\n",
      " 2   GTT     11934 non-null  float64\n",
      " 3   GTn     11934 non-null  float64\n",
      " 4   GGn     11934 non-null  float64\n",
      " 5   Ts      11934 non-null  float64\n",
      " 6   Tp      11934 non-null  float64\n",
      " 7   T48     11934 non-null  float64\n",
      " 8   T1      11934 non-null  float64\n",
      " 9   T2      11934 non-null  float64\n",
      " 10  P48     11934 non-null  float64\n",
      " 11  P1      11934 non-null  float64\n",
      " 12  P2      11934 non-null  float64\n",
      " 13  Pexh    11934 non-null  float64\n",
      " 14  TIC     11934 non-null  float64\n",
      " 15  mf      11934 non-null  float64\n",
      " 16  CD      11934 non-null  float64\n",
      " 17  TD      11934 non-null  float64\n",
      "dtypes: float64(18)\n",
      "memory usage: 1.6 MB\n"
     ]
    }
   ],
   "source": [
    "ds.info()"
   ],
   "metadata": {
    "collapsed": false,
    "pycharm": {
     "name": "#%%\n"
    }
   }
  },
  {
   "cell_type": "code",
   "execution_count": 102,
   "outputs": [
    {
     "data": {
      "text/plain": "                 lp             v           GTT           GTn           GGn  \\\ncount  11934.000000  11934.000000  11934.000000  11934.000000  11934.000000   \nmean       5.166667     15.000000  27247.498685   2136.289256   8200.947312   \nstd        2.626388      7.746291  22148.613155    774.083881   1091.315507   \nmin        1.138000      3.000000    253.547000   1307.675000   6589.002000   \n25%        3.144000      9.000000   8375.883750   1386.758000   7058.324000   \n50%        5.140000     15.000000  21630.659000   1924.326000   8482.081500   \n75%        7.148000     21.000000  39001.426750   2678.079000   9132.606000   \nmax        9.300000     27.000000  72784.872000   3560.741000   9797.103000   \n\n                 Ts            Tp           T48       T1            T2  \\\ncount  11934.000000  11934.000000  11934.000000  11934.0  11934.000000   \nmean     227.335768    227.335768    735.495446    288.0    646.215331   \nstd      200.495889    200.495889    173.680552      0.0     72.675882   \nmin        5.304000      5.304000    442.364000    288.0    540.442000   \n25%       60.317000     60.317000    589.872750    288.0    578.092250   \n50%      175.268000    175.268000    706.038000    288.0    637.141500   \n75%      332.364750    332.364750    834.066250    288.0    693.924500   \nmax      645.249000    645.249000   1115.797000    288.0    789.094000   \n\n                P48            P1            P2          Pexh           TIC  \\\ncount  11934.000000  1.193400e+04  11934.000000  11934.000000  11934.000000   \nmean       2.352963  9.980000e-01     12.297123      1.029474     33.641261   \nstd        1.084770  2.220539e-16      5.337448      0.010390     25.841363   \nmin        1.093000  9.980000e-01      5.828000      1.019000      0.000000   \n25%        1.389000  9.980000e-01      7.447250      1.020000     13.677500   \n50%        2.083000  9.980000e-01     11.092000      1.026000     25.276500   \n75%        2.981000  9.980000e-01     15.658000      1.036000     44.552500   \nmax        4.560000  9.980000e-01     23.140000      1.052000     92.556000   \n\n                 mf           CD          TD  \ncount  11934.000000  11934.00000  11934.0000  \nmean       0.662440      0.97500      0.9875  \nstd        0.507132      0.01472      0.0075  \nmin        0.068000      0.95000      0.9750  \n25%        0.246000      0.96200      0.9810  \n50%        0.496000      0.97500      0.9875  \n75%        0.882000      0.98800      0.9940  \nmax        1.832000      1.00000      1.0000  ",
      "text/html": "<div>\n<style scoped>\n    .dataframe tbody tr th:only-of-type {\n        vertical-align: middle;\n    }\n\n    .dataframe tbody tr th {\n        vertical-align: top;\n    }\n\n    .dataframe thead th {\n        text-align: right;\n    }\n</style>\n<table border=\"1\" class=\"dataframe\">\n  <thead>\n    <tr style=\"text-align: right;\">\n      <th></th>\n      <th>lp</th>\n      <th>v</th>\n      <th>GTT</th>\n      <th>GTn</th>\n      <th>GGn</th>\n      <th>Ts</th>\n      <th>Tp</th>\n      <th>T48</th>\n      <th>T1</th>\n      <th>T2</th>\n      <th>P48</th>\n      <th>P1</th>\n      <th>P2</th>\n      <th>Pexh</th>\n      <th>TIC</th>\n      <th>mf</th>\n      <th>CD</th>\n      <th>TD</th>\n    </tr>\n  </thead>\n  <tbody>\n    <tr>\n      <th>count</th>\n      <td>11934.000000</td>\n      <td>11934.000000</td>\n      <td>11934.000000</td>\n      <td>11934.000000</td>\n      <td>11934.000000</td>\n      <td>11934.000000</td>\n      <td>11934.000000</td>\n      <td>11934.000000</td>\n      <td>11934.0</td>\n      <td>11934.000000</td>\n      <td>11934.000000</td>\n      <td>1.193400e+04</td>\n      <td>11934.000000</td>\n      <td>11934.000000</td>\n      <td>11934.000000</td>\n      <td>11934.000000</td>\n      <td>11934.00000</td>\n      <td>11934.0000</td>\n    </tr>\n    <tr>\n      <th>mean</th>\n      <td>5.166667</td>\n      <td>15.000000</td>\n      <td>27247.498685</td>\n      <td>2136.289256</td>\n      <td>8200.947312</td>\n      <td>227.335768</td>\n      <td>227.335768</td>\n      <td>735.495446</td>\n      <td>288.0</td>\n      <td>646.215331</td>\n      <td>2.352963</td>\n      <td>9.980000e-01</td>\n      <td>12.297123</td>\n      <td>1.029474</td>\n      <td>33.641261</td>\n      <td>0.662440</td>\n      <td>0.97500</td>\n      <td>0.9875</td>\n    </tr>\n    <tr>\n      <th>std</th>\n      <td>2.626388</td>\n      <td>7.746291</td>\n      <td>22148.613155</td>\n      <td>774.083881</td>\n      <td>1091.315507</td>\n      <td>200.495889</td>\n      <td>200.495889</td>\n      <td>173.680552</td>\n      <td>0.0</td>\n      <td>72.675882</td>\n      <td>1.084770</td>\n      <td>2.220539e-16</td>\n      <td>5.337448</td>\n      <td>0.010390</td>\n      <td>25.841363</td>\n      <td>0.507132</td>\n      <td>0.01472</td>\n      <td>0.0075</td>\n    </tr>\n    <tr>\n      <th>min</th>\n      <td>1.138000</td>\n      <td>3.000000</td>\n      <td>253.547000</td>\n      <td>1307.675000</td>\n      <td>6589.002000</td>\n      <td>5.304000</td>\n      <td>5.304000</td>\n      <td>442.364000</td>\n      <td>288.0</td>\n      <td>540.442000</td>\n      <td>1.093000</td>\n      <td>9.980000e-01</td>\n      <td>5.828000</td>\n      <td>1.019000</td>\n      <td>0.000000</td>\n      <td>0.068000</td>\n      <td>0.95000</td>\n      <td>0.9750</td>\n    </tr>\n    <tr>\n      <th>25%</th>\n      <td>3.144000</td>\n      <td>9.000000</td>\n      <td>8375.883750</td>\n      <td>1386.758000</td>\n      <td>7058.324000</td>\n      <td>60.317000</td>\n      <td>60.317000</td>\n      <td>589.872750</td>\n      <td>288.0</td>\n      <td>578.092250</td>\n      <td>1.389000</td>\n      <td>9.980000e-01</td>\n      <td>7.447250</td>\n      <td>1.020000</td>\n      <td>13.677500</td>\n      <td>0.246000</td>\n      <td>0.96200</td>\n      <td>0.9810</td>\n    </tr>\n    <tr>\n      <th>50%</th>\n      <td>5.140000</td>\n      <td>15.000000</td>\n      <td>21630.659000</td>\n      <td>1924.326000</td>\n      <td>8482.081500</td>\n      <td>175.268000</td>\n      <td>175.268000</td>\n      <td>706.038000</td>\n      <td>288.0</td>\n      <td>637.141500</td>\n      <td>2.083000</td>\n      <td>9.980000e-01</td>\n      <td>11.092000</td>\n      <td>1.026000</td>\n      <td>25.276500</td>\n      <td>0.496000</td>\n      <td>0.97500</td>\n      <td>0.9875</td>\n    </tr>\n    <tr>\n      <th>75%</th>\n      <td>7.148000</td>\n      <td>21.000000</td>\n      <td>39001.426750</td>\n      <td>2678.079000</td>\n      <td>9132.606000</td>\n      <td>332.364750</td>\n      <td>332.364750</td>\n      <td>834.066250</td>\n      <td>288.0</td>\n      <td>693.924500</td>\n      <td>2.981000</td>\n      <td>9.980000e-01</td>\n      <td>15.658000</td>\n      <td>1.036000</td>\n      <td>44.552500</td>\n      <td>0.882000</td>\n      <td>0.98800</td>\n      <td>0.9940</td>\n    </tr>\n    <tr>\n      <th>max</th>\n      <td>9.300000</td>\n      <td>27.000000</td>\n      <td>72784.872000</td>\n      <td>3560.741000</td>\n      <td>9797.103000</td>\n      <td>645.249000</td>\n      <td>645.249000</td>\n      <td>1115.797000</td>\n      <td>288.0</td>\n      <td>789.094000</td>\n      <td>4.560000</td>\n      <td>9.980000e-01</td>\n      <td>23.140000</td>\n      <td>1.052000</td>\n      <td>92.556000</td>\n      <td>1.832000</td>\n      <td>1.00000</td>\n      <td>1.0000</td>\n    </tr>\n  </tbody>\n</table>\n</div>"
     },
     "execution_count": 102,
     "metadata": {},
     "output_type": "execute_result"
    }
   ],
   "source": [
    "ds.describe()"
   ],
   "metadata": {
    "collapsed": false,
    "pycharm": {
     "name": "#%%\n"
    }
   }
  },
  {
   "cell_type": "markdown",
   "source": [
    "### Изучение и подготовка модели\n",
    "Все колонки являются float-значениями и не содержат NULL-значений.\n",
    "Предобработка не требуется"
   ],
   "metadata": {
    "collapsed": false,
    "pycharm": {
     "name": "#%% md\n"
    }
   }
  },
  {
   "cell_type": "markdown",
   "source": [
    "\n",
    "### Создание тестовой выборки\n",
    "Размер тестовой выборки: 30%"
   ],
   "metadata": {
    "collapsed": false,
    "pycharm": {
     "name": "#%% md\n"
    }
   }
  },
  {
   "cell_type": "code",
   "source": [
    "from sklearn.model_selection import train_test_split\n",
    "y = ds.CD\n",
    "x = ds.drop('CD', axis=1).drop('TD', axis=1)\n",
    "x_train, x_test, y_train, y_test = train_test_split(x, y, test_size=0.30)"
   ],
   "metadata": {
    "collapsed": false,
    "pycharm": {
     "name": "#%%\n"
    }
   },
   "execution_count": 103,
   "outputs": []
  },
  {
   "cell_type": "markdown",
   "source": [
    "#### Линейная регрессия\n",
    "Для начала попробуем стандартную линейную регрессию."
   ],
   "metadata": {
    "collapsed": false,
    "pycharm": {
     "name": "#%% md\n"
    }
   }
  },
  {
   "cell_type": "code",
   "execution_count": 104,
   "outputs": [
    {
     "name": "stdout",
     "output_type": "stream",
     "text": [
      "Train score  0.8428540228936565\n",
      "Test score  0.8445401151465483\n"
     ]
    }
   ],
   "source": [
    "from sklearn.linear_model import LinearRegression\n",
    "lr = LinearRegression()\n",
    "lr.fit(x_train, y_train)\n",
    "trainScore = lr.score(x_train, y_train)\n",
    "testScore = lr.score(x_test, y_test)\n",
    "print('Train score ', trainScore)\n",
    "print('Test score ', testScore)"
   ],
   "metadata": {
    "collapsed": false,
    "pycharm": {
     "name": "#%%\n"
    }
   }
  },
  {
   "cell_type": "markdown",
   "source": [
    "Линейная регрессия показала неплохой результат.\n",
    "Попробуем улучшить его с помощью полиномиальной регрессии.\n",
    "### Полиномиальная регрессия и поиск по сетке\n",
    "Будем сравнивать полиномиальную регрессию со степенями от 1 до 3 включительно"
   ],
   "metadata": {
    "collapsed": false,
    "pycharm": {
     "name": "#%% md\n"
    }
   }
  },
  {
   "cell_type": "code",
   "execution_count": 105,
   "outputs": [],
   "source": [
    "from sklearn.pipeline import make_pipeline, Pipeline\n",
    "from sklearn.model_selection import GridSearchCV\n",
    "from sklearn.preprocessing import PolynomialFeatures"
   ],
   "metadata": {
    "collapsed": false,
    "pycharm": {
     "name": "#%%\n"
    }
   }
  },
  {
   "cell_type": "code",
   "execution_count": 106,
   "outputs": [],
   "source": [
    "poly = Pipeline([('pf',PolynomialFeatures(degree=4)),('lr', LinearRegression())])"
   ],
   "metadata": {
    "collapsed": false,
    "pycharm": {
     "name": "#%%\n"
    }
   }
  },
  {
   "cell_type": "code",
   "execution_count": 107,
   "outputs": [
    {
     "data": {
      "text/plain": "{'pf__degree': range(1, 4)}"
     },
     "execution_count": 107,
     "metadata": {},
     "output_type": "execute_result"
    }
   ],
   "source": [
    "params = {'pf__degree': range(1, 4)}\n",
    "params"
   ],
   "metadata": {
    "collapsed": false,
    "pycharm": {
     "name": "#%%\n"
    }
   }
  },
  {
   "cell_type": "code",
   "execution_count": 108,
   "outputs": [],
   "source": [
    "gs = GridSearchCV(poly, params, cv=5)"
   ],
   "metadata": {
    "collapsed": false,
    "pycharm": {
     "name": "#%%\n"
    }
   }
  },
  {
   "cell_type": "code",
   "execution_count": 109,
   "outputs": [
    {
     "data": {
      "text/plain": "GridSearchCV(cv=5,\n             estimator=Pipeline(steps=[('pf', PolynomialFeatures(degree=4)),\n                                       ('lr', LinearRegression())]),\n             param_grid={'pf__degree': range(1, 4)})"
     },
     "execution_count": 109,
     "metadata": {},
     "output_type": "execute_result"
    }
   ],
   "source": [
    "gs.fit(x_train, y_train)"
   ],
   "metadata": {
    "collapsed": false,
    "pycharm": {
     "name": "#%%\n"
    }
   }
  },
  {
   "cell_type": "code",
   "execution_count": 110,
   "outputs": [
    {
     "data": {
      "text/plain": "{'pf__degree': 3}"
     },
     "execution_count": 110,
     "metadata": {},
     "output_type": "execute_result"
    }
   ],
   "source": [
    "gs.best_params_"
   ],
   "metadata": {
    "collapsed": false,
    "pycharm": {
     "name": "#%%\n"
    }
   }
  },
  {
   "cell_type": "code",
   "execution_count": 111,
   "outputs": [
    {
     "data": {
      "text/plain": "0.9999987678610616"
     },
     "execution_count": 111,
     "metadata": {},
     "output_type": "execute_result"
    }
   ],
   "source": [
    "gs.score(x_test, y_test)"
   ],
   "metadata": {
    "collapsed": false,
    "pycharm": {
     "name": "#%%\n"
    }
   }
  },
  {
   "cell_type": "markdown",
   "source": [
    "### Вывод\n",
    "Модель легко поддаётся прогнозированию, позволяя получать почти 100% результат.\n",
    "Лучше всего себя показала полиномиальная регрессия 3 степени.\n",
    "Поиск степени > 3 не имеет смысла, т.к. текущая модель обладает необходимой точностью."
   ],
   "metadata": {
    "collapsed": false,
    "pycharm": {
     "name": "#%% md\n"
    }
   }
  }
 ],
 "metadata": {
  "kernelspec": {
   "display_name": "Python 3",
   "language": "python",
   "name": "python3"
  },
  "language_info": {
   "codemirror_mode": {
    "name": "ipython",
    "version": 2
   },
   "file_extension": ".py",
   "mimetype": "text/x-python",
   "name": "python",
   "nbconvert_exporter": "python",
   "pygments_lexer": "ipython2",
   "version": "2.7.6"
  }
 },
 "nbformat": 4,
 "nbformat_minor": 0
}